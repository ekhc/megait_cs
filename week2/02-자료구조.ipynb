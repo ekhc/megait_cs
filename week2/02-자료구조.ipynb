{
 "cells": [
  {
   "cell_type": "markdown",
   "id": "18389bba-190b-486d-94ee-a4d840d86b29",
   "metadata": {},
   "source": [
    "# 문제 1\n",
    "N개의 숫자가 공백 없이 쓰여있다. 이 숫자를 모두 합해서 출력하는 프로그램을 작성하시오.\n",
    "\n",
    "# 입력\n",
    "첫째 줄에 숫자의 개수 N (1 ≤ N ≤ 100)이 주어진다. 둘째 줄에 숫자 N개가 공백없이 주어진다.\n",
    "\n",
    "# 출력\n",
    "입력으로 주어진 숫자 N개의 합을 출력한다.\n",
    "\n",
    "예제 입력 1 \n",
    "1 \\\n",
    "1\n",
    "예제 출력 1 \n",
    "1\n",
    "예제 입력 2 \n",
    "5 \\\n",
    "54321\n",
    "예제 출력 2 \n",
    "15\n",
    "예제 입력 3 \n",
    "25 \\\n",
    "7000000000000000000000000\n",
    "예제 출력 3 \n",
    "7\n",
    "예제 입력 4 \n",
    "11 \\\n",
    "10987654321\n",
    "예제 출력 4 \n",
    "46"
   ]
  },
  {
   "cell_type": "code",
   "execution_count": 17,
   "id": "381418d8-9bd6-49a5-a908-fd59b304e06a",
   "metadata": {},
   "outputs": [
    {
     "name": "stdin",
     "output_type": "stream",
     "text": [
      " 5\n",
      " 54321\n"
     ]
    },
    {
     "name": "stdout",
     "output_type": "stream",
     "text": [
      "15\n"
     ]
    }
   ],
   "source": [
    "a = int(input())\n",
    "b = int(input())\n",
    "\n",
    "result = 0\n",
    "while b:\n",
    "    n = b//10\n",
    "    mod = b%10\n",
    "    result += mod\n",
    "    b = n\n",
    "\n",
    "print(result)"
   ]
  },
  {
   "cell_type": "markdown",
   "id": "a1b6060b-7dc0-461f-9be7-6b9be4a84d75",
   "metadata": {},
   "source": [
    "![1](2-1.png)\n",
    "![2](2-2.png)"
   ]
  },
  {
   "cell_type": "code",
   "execution_count": 38,
   "id": "13c98711-5c87-4fd1-b47d-397975767c11",
   "metadata": {},
   "outputs": [
    {
     "name": "stdin",
     "output_type": "stream",
     "text": [
      " 3\n",
      " 40 80 60\n"
     ]
    },
    {
     "name": "stdout",
     "output_type": "stream",
     "text": [
      "[40, 80, 60]\n",
      "75.0\n"
     ]
    }
   ],
   "source": [
    "rng = int(input())\n",
    "l = list(map(int, str(input()).split(' ')))\n",
    "\n",
    "max_n = max(l)\n",
    "for i, v in enumerate(l):\n",
    "    l[i] = v/max_n*100\n",
    "\n",
    "result = sum(l)/len(l)\n",
    "print(result)"
   ]
  },
  {
   "cell_type": "markdown",
   "id": "53bde6bb-d067-4a8e-937d-13c9e5bf99a4",
   "metadata": {},
   "source": [
    "![3-1](3-1.png)\n",
    "![3-2](3-2.png)"
   ]
  },
  {
   "cell_type": "code",
   "execution_count": 76,
   "id": "126e363e-ce9c-4d9d-9f24-c26ff23a2efd",
   "metadata": {},
   "outputs": [
    {
     "ename": "ValueError",
     "evalue": "not enough values to unpack (expected 2, got 0)",
     "output_type": "error",
     "traceback": [
      "\u001b[0;31m---------------------------------------------------------------------------\u001b[0m",
      "\u001b[0;31mValueError\u001b[0m                                Traceback (most recent call last)",
      "Cell \u001b[0;32mIn[76], line 4\u001b[0m\n\u001b[1;32m      1\u001b[0m \u001b[38;5;28;01mimport\u001b[39;00m \u001b[38;5;21;01msys\u001b[39;00m\n\u001b[1;32m      2\u001b[0m \u001b[38;5;28minput\u001b[39m \u001b[38;5;241m=\u001b[39m sys\u001b[38;5;241m.\u001b[39mstdin\u001b[38;5;241m.\u001b[39mreadline\n\u001b[0;32m----> 4\u001b[0m n, m \u001b[38;5;241m=\u001b[39m \u001b[38;5;28mtuple\u001b[39m(\u001b[38;5;28mmap\u001b[39m(\u001b[38;5;28mint\u001b[39m, \u001b[38;5;28minput\u001b[39m()\u001b[38;5;241m.\u001b[39msplit()))\n\u001b[1;32m      5\u001b[0m l \u001b[38;5;241m=\u001b[39m \u001b[38;5;28mlist\u001b[39m(\u001b[38;5;28mmap\u001b[39m(\u001b[38;5;28mint\u001b[39m, \u001b[38;5;28minput\u001b[39m()\u001b[38;5;241m.\u001b[39msplit()))\n\u001b[1;32m      6\u001b[0m prefix_sum \u001b[38;5;241m=\u001b[39m [\u001b[38;5;241m0\u001b[39m] \u001b[38;5;241m*\u001b[39m (\u001b[38;5;28mlen\u001b[39m(l) \u001b[38;5;241m+\u001b[39m \u001b[38;5;241m1\u001b[39m)\n",
      "\u001b[0;31mValueError\u001b[0m: not enough values to unpack (expected 2, got 0)"
     ]
    }
   ],
   "source": [
    "import sys\n",
    "input = sys.stdin.readline\n",
    "\n",
    "n, m = tuple(map(int, input().split()))\n",
    "l = list(map(int, input().split()))\n",
    "prefix_sum = [0] * (len(l) + 1)\n",
    "prefix_sum[0] = 0\n",
    "\n",
    "for i in range(1, n + 1):\n",
    "    prefix_sum[i] = prefix_sum[i-1] + l[i - 1]\n",
    "\n",
    "result = []\n",
    "for i in range(m):\n",
    "    i, j = tuple(map(int, input().split()))\n",
    "    result.append(prefix_sum[j] - prefix_sum[i - 1])\n",
    "\n",
    "print(\"\\n\".join(map(str, result)))"
   ]
  },
  {
   "cell_type": "markdown",
   "id": "f829f760-8b66-4b21-bc78-aab8e709c850",
   "metadata": {},
   "source": [
    "![4-1](4-1.png)\n",
    "![4-2](4-2.png)"
   ]
  },
  {
   "cell_type": "code",
   "execution_count": 3,
   "id": "88e519ed-24e7-4917-b3b9-098c2d85052d",
   "metadata": {},
   "outputs": [
    {
     "name": "stdin",
     "output_type": "stream",
     "text": [
      " 2 4\n",
      " 1 2\n",
      " 3 4\n",
      " 1 1 1 1\n",
      " 1 2 1 2\n",
      " 2 1 2 1\n",
      " 2 2 2 2\n"
     ]
    },
    {
     "name": "stdout",
     "output_type": "stream",
     "text": [
      "12\n",
      "15\n",
      "18\n"
     ]
    }
   ],
   "source": [
    "(n, m) = tuple(map(int, input().split()))\n",
    "    \n",
    "matrix = []\n",
    "for _ in range(n):\n",
    "    matrix.append(list(map(int, input().split())))\n",
    "\n",
    "coords_l = []\n",
    "for _ in range(m):\n",
    "    coord = list(map(int, input().split()))\n",
    "    x1, y1, x2, y2 = coord\n",
    "\n",
    "    for i in range(x1, x2):\n",
    "        print(i)\n",
    "\n",
    "    # result = []\n",
    "    # for i in range(x1, x2):\n",
    "    #     result.append(sum(matrix[i][y1:y2]))\n",
    "\n",
    "print(\"\\n\".join(map(str, result)))"
   ]
  },
  {
   "cell_type": "code",
   "execution_count": null,
   "id": "d53a97a6-5624-4f73-994c-93cb31a06704",
   "metadata": {},
   "outputs": [],
   "source": [
    "import sys\n",
    "input = sys.stdin.readline\n",
    "\n",
    "if __name__ == \"__main__\":\n",
    "    (n, m) = tuple(map(int, input().split()))\n",
    "    \n",
    "    matrix = []\n",
    "    for _ in range(n):\n",
    "        matrix.append(list(map(int, input().split())))\n",
    "\n",
    "    coords_l = []\n",
    "    for _ in range(m):\n",
    "        coord = list(map(int, input().split()))\n",
    "        x1, y1, x2, y2 = coord\n",
    "\n",
    "        result = []\n",
    "        for i in range(x1, x2):\n",
    "            result.append(sum(matrix[i][y1:y2]))\n",
    "\n",
    "    print(\"\\n\".join(map(str, result))"
   ]
  }
 ],
 "metadata": {
  "kernelspec": {
   "display_name": "Python 3 (ipykernel)",
   "language": "python",
   "name": "python3"
  },
  "language_info": {
   "codemirror_mode": {
    "name": "ipython",
    "version": 3
   },
   "file_extension": ".py",
   "mimetype": "text/x-python",
   "name": "python",
   "nbconvert_exporter": "python",
   "pygments_lexer": "ipython3",
   "version": "3.12.6"
  }
 },
 "nbformat": 4,
 "nbformat_minor": 5
}
